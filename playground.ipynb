{
 "cells": [
  {
   "cell_type": "code",
   "execution_count": 13,
   "metadata": {},
   "outputs": [],
   "source": [
    "import shutil\n",
    "import os"
   ]
  },
  {
   "cell_type": "code",
   "execution_count": 3,
   "metadata": {},
   "outputs": [
    {
     "name": "stdout",
     "output_type": "stream",
     "text": [
      "/home/internet-lab/KITTI/Benson/SERVI/datasets/1212-test/masks\n"
     ]
    }
   ],
   "source": [
    "%cd ./datasets/1212-test/masks"
   ]
  },
  {
   "cell_type": "code",
   "execution_count": 16,
   "metadata": {},
   "outputs": [
    {
     "name": "stdout",
     "output_type": "stream",
     "text": [
      "/home/internet-lab/KITTI/Benson/SERVI/datasets/1212-test/masks\n",
      "['00049.jpg', '00038.jpg', '00026.jpg', '00023.jpg', '00053.jpg', '00058.jpg', '00009.jpg', '00039.jpg', '00079.jpg', '00076.jpg', '00022.jpg', '00015.jpg', '00060.jpg', '00089.jpg', '00003.jpg', '00018.jpg', '00075.jpg', '00044.jpg', '00000.jpg', '00080.jpg', '00034.jpg', '00016.jpg', '00062.jpg', '00067.jpg', '00012.jpg', '00002.jpg', '00065.jpg', '00031.jpg', '00033.jpg', '00037.jpg', '00082.jpg', '00028.jpg', '00074.jpg', '00046.jpg', '00061.jpg', '00004.jpg', '00005.jpg', '00047.jpg', '00019.jpg', '00001.jpg', '00084.jpg', '00024.jpg', '00086.jpg', '00088.jpg', '00078.jpg', '00014.jpg', '00068.jpg', '00050.jpg', '00059.jpg', '00063.jpg', '00042.jpg', '00007.jpg', '00048.jpg', '00020.jpg', '00057.jpg', '00051.jpg', '00006.jpg', '00069.jpg', '00056.jpg', '00090.jpg', '00017.jpg', '00035.jpg', '00081.jpg', '00040.jpg', '00052.jpg', '00029.jpg', '00054.jpg', '00021.jpg', '00013.jpg', '00010.jpg', '00043.jpg', '00066.jpg', '00045.jpg', '00032.jpg', '00025.jpg', '00077.jpg', '00027.jpg', '00087.jpg', '00011.jpg', '00030.jpg', '00073.jpg', '00064.jpg', '00070.jpg', '00071.jpg', '00085.jpg', '00072.jpg', '00036.jpg', '00008.jpg', '00055.jpg', '00083.jpg', '00041.jpg']\n"
     ]
    }
   ],
   "source": [
    "!pwd\n",
    "for i in range(1, 91):\n",
    "    # print(str(i).zfill(5))\n",
    "    filename = str(i).zfill(5)+'.jpg'\n",
    "    # print(filename)\n",
    "    shutil.copyfile('00000.jpg', filename)\n",
    "print(os.listdir('.'))"
   ]
  },
  {
   "cell_type": "markdown",
   "metadata": {},
   "source": [
    "### calculate metrics"
   ]
  },
  {
   "cell_type": "code",
   "execution_count": 4,
   "metadata": {},
   "outputs": [
    {
     "name": "stdout",
     "output_type": "stream",
     "text": [
      "/home/hscc/Benson/SERVI/results/1223-FTR-fix/1225-FTR-test/2023-12-25_youtubevos\n",
      "/home/hscc/Benson/SERVI/results/1223-FTR-fix/1225-FTR-test/2023-12-25_youtubevos\n"
     ]
    }
   ],
   "source": [
    "%cd /home/hscc/Benson/SERVI/results/1223-FTR-fix/1225-FTR-test/2023-12-25_youtubevos/"
   ]
  },
  {
   "cell_type": "code",
   "execution_count": 6,
   "metadata": {},
   "outputs": [
    {
     "name": "stdout",
     "output_type": "stream",
     "text": [
      "['RASE_onlyMask_False.csv', 'SAM_onlyMask_False.csv', 'MSE_onlyMask_False.csv', 'SSIM_onlyMask_False.csv', 'VIF_onlyMask_False.csv', 'SCC_onlyMask_False.csv', 'UQI_onlyMask_False.csv', 'RMSE_onlyMask_False.csv', 'PSNR_onlyMask_False.csv', 'LPIPS_onlyMask_False.csv', 'MSSSIM_onlyMask_False.csv', 'PSNRB_onlyMask_False.csv']\n"
     ]
    }
   ],
   "source": [
    "import os\n",
    "files = [f for f in os.listdir('.') if os.path.isfile(f)]\n",
    "print(files)"
   ]
  },
  {
   "cell_type": "code",
   "execution_count": 21,
   "metadata": {},
   "outputs": [
    {
     "name": "stdout",
     "output_type": "stream",
     "text": [
      "RASE_onlyMask_False.csv : nan\n",
      "SAM_onlyMask_False.csv : 0.08745096305735577\n",
      "MSE_onlyMask_False.csv : 142.73915934096527\n",
      "SSIM_onlyMask_False.csv : 0.9331333315869575\n",
      "VIF_onlyMask_False.csv : 0.7312691713061084\n",
      "SCC_onlyMask_False.csv : 0.6857669902607405\n",
      "UQI_onlyMask_False.csv : 0.9824717478812847\n",
      "RMSE_onlyMask_False.csv : 10.663989283919438\n",
      "PSNR_onlyMask_False.csv : 28.77752721867497\n",
      "LPIPS_onlyMask_False.csv : 0.038705034318274996\n",
      "PSNRB_onlyMask_False.csv : 28.516339435490732\n"
     ]
    }
   ],
   "source": [
    "import csv\n",
    "from statistics import mean\n",
    "for file in files:\n",
    "    if file.endswith('.csv'):\n",
    "        with open(file) as csvfile:\n",
    "            val = []\n",
    "            rows = csv.reader(csvfile)\n",
    "            try:\n",
    "                for row in rows:\n",
    "                    total = 0\n",
    "                    for i in range(1, len(row)-1):\n",
    "                        total += float(row[i])\n",
    "                    val.append(total/(len(row)-2))\n",
    "                print(file, \":\", mean(val))\n",
    "            except:\n",
    "                continue\n",
    "        "
   ]
  }
 ],
 "metadata": {
  "kernelspec": {
   "display_name": "Python 3",
   "language": "python",
   "name": "python3"
  },
  "language_info": {
   "codemirror_mode": {
    "name": "ipython",
    "version": 3
   },
   "file_extension": ".py",
   "mimetype": "text/x-python",
   "name": "python",
   "nbconvert_exporter": "python",
   "pygments_lexer": "ipython3",
   "version": "3.8.10"
  }
 },
 "nbformat": 4,
 "nbformat_minor": 2
}
